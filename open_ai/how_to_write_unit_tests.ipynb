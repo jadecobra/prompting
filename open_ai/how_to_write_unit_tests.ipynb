{
 "cells": [
  {
   "cell_type": "markdown",
   "metadata": {},
   "source": [
    "How to write great unit tests with pytest"
   ]
  },
  {
   "attachments": {},
   "cell_type": "markdown",
   "metadata": {},
   "source": [
    "In this advanced tutorial for experts we'll use Python 3.9 and `pytest` to write a suite of unit tests to verify the behavior of the following function\n",
    "```python\n",
    "def is_palindrome(s):\n",
    "    return s == s[::-1]\n",
    "```"
   ]
  },
  {
   "attachments": {},
   "cell_type": "markdown",
   "metadata": {},
   "source": [
    "Before writing any unit tests, let's review what each element of the function is doing exactly and what the author's intentions may have been.\n",
    "- First, {GENERATED IN STEP 1}\n",
    "\n",
    "A good unit test suite should aim to:\n",
    "- Test the function's behavior for a wide range of possible inputs\n",
    "- Test edge cases that the author may not have foreseen\n",
    "- Take advantage of the features of `pytest` to make the tests easy to write and maintain\n",
    "- Be easy to read and understand, with clean code and description names\n",
    "- Be deterministic, so that the tests always pass or fail in the same way\n",
    "\n",
    "`pytest` has many convenient features that make it easy to write and maintain unit tests.\n",
    "We'll use them to write unit tests for the function above.\n",
    "\n",
    "For this particular function, we'll want our unit tests to handle the following diverse scenarios (and under each scenario, we include a few examples as sub-bullets):\n",
    "-{GENERATED IN STEP 2}\n",
    "\n",
    "[OPTIONALLY APPENDED]In addition to the scenarios above, we'll also want to make sure we don't forget to test rare or unexpected edge cases (and under each edge case, we include a few examples as sub-bullets):\n",
    "-{GENERATED IN STEP 2B}\n",
    "\n",
    "Before going into the individual tests, let's first look at the complete suite of unit tests as a cohesive whole.\n",
    "We've added helpful comments to explain what each line does.\n",
    "```python\n",
    "import pytest\n",
    "\n",
    "def is_palindrome(s):\n",
    "    return s == s[::-1]\n",
    "```"
   ]
  },
  {
   "cell_type": "markdown",
   "metadata": {},
   "source": [
    "Below, each test case is represented by a tuple passed to the @pytest.mark.parametrize decorator\n",
    "{GENERATED IN STEP 3}"
   ]
  },
  {
   "cell_type": "code",
   "execution_count": 5,
   "metadata": {},
   "outputs": [],
   "source": [
    "import ast\n",
    "import openai"
   ]
  },
  {
   "cell_type": "code",
   "execution_count": null,
   "metadata": {},
   "outputs": [],
   "source": [
    "def unit_test_from_function(\n",
    "    function_to_test: str,\n",
    "    unit_test_package: str = 'pytest',\n",
    "    approx_min_cases_to_cover: int = 7,\n",
    "    print_text: bool = False,\n",
    "    text_model: str = 'text-davinci-002',\n",
    "    code_model: str = 'code-davinci-002',\n",
    "    max_tokens: int = 1000,\n",
    "    temperature: float = 0.4,\n",
    "    reruns_if_fail: int = 1,\n",
    ") -> str:\n",
    "    '''Outputs a unit test for a given Python function, using a 3-strp GPT-3 prompt'''"
   ]
  },
  {
   "cell_type": "markdown",
   "metadata": {},
   "source": []
  }
 ],
 "metadata": {
  "kernelspec": {
   "display_name": ".venv",
   "language": "python",
   "name": "python3"
  },
  "language_info": {
   "codemirror_mode": {
    "name": "ipython",
    "version": 3
   },
   "file_extension": ".py",
   "mimetype": "text/x-python",
   "name": "python",
   "nbconvert_exporter": "python",
   "pygments_lexer": "ipython3",
   "version": "3.11.0"
  },
  "orig_nbformat": 4
 },
 "nbformat": 4,
 "nbformat_minor": 2
}
